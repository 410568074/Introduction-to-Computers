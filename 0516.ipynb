{
  "nbformat": 4,
  "nbformat_minor": 0,
  "metadata": {
    "colab": {
      "name": "0516.ipynb",
      "provenance": [],
      "authorship_tag": "ABX9TyMKPyLebIzsR5korbj+MLzV",
      "include_colab_link": true
    },
    "kernelspec": {
      "name": "python3",
      "display_name": "Python 3"
    },
    "language_info": {
      "name": "python"
    }
  },
  "cells": [
    {
      "cell_type": "markdown",
      "metadata": {
        "id": "view-in-github",
        "colab_type": "text"
      },
      "source": [
        "<a href=\"https://colab.research.google.com/github/410568074/Introduction-to-Computers/blob/main/0516.ipynb\" target=\"_parent\"><img src=\"https://colab.research.google.com/assets/colab-badge.svg\" alt=\"Open In Colab\"/></a>"
      ]
    },
    {
      "cell_type": "code",
      "execution_count": null,
      "metadata": {
        "colab": {
          "base_uri": "https://localhost:8080/"
        },
        "id": "d1p7jr0d2UoK",
        "outputId": "7bd1c3b1-1378-4f79-b6ad-174ff5a97f70"
      },
      "outputs": [
        {
          "output_type": "stream",
          "name": "stdout",
          "text": [
            "123\n"
          ]
        }
      ],
      "source": [
        "print(\"123\")"
      ]
    },
    {
      "cell_type": "code",
      "source": [
        "i=range(5)"
      ],
      "metadata": {
        "id": "IgEmpZPI8bAQ"
      },
      "execution_count": null,
      "outputs": []
    },
    {
      "cell_type": "code",
      "source": [
        "print(type(i))"
      ],
      "metadata": {
        "colab": {
          "base_uri": "https://localhost:8080/"
        },
        "id": "n2u8VQ5L8lWA",
        "outputId": "3ce37c4a-bfa9-4fb6-998d-6f9faf4f9b6b"
      },
      "execution_count": null,
      "outputs": [
        {
          "output_type": "stream",
          "name": "stdout",
          "text": [
            "<class 'range'>\n"
          ]
        }
      ]
    },
    {
      "cell_type": "code",
      "source": [
        "print(i)"
      ],
      "metadata": {
        "colab": {
          "base_uri": "https://localhost:8080/"
        },
        "id": "hnrNYcER8olm",
        "outputId": "12cbacef-da1c-4865-a439-c58b63747165"
      },
      "execution_count": null,
      "outputs": [
        {
          "output_type": "stream",
          "name": "stdout",
          "text": [
            "range(0, 5)\n"
          ]
        }
      ]
    },
    {
      "cell_type": "code",
      "source": [
        "print(list(i))"
      ],
      "metadata": {
        "colab": {
          "base_uri": "https://localhost:8080/"
        },
        "id": "IMjge8Bu8raj",
        "outputId": "756996ab-8c3a-43d9-c0ae-3884c64d7bae"
      },
      "execution_count": null,
      "outputs": [
        {
          "output_type": "stream",
          "name": "stdout",
          "text": [
            "[0, 1, 2, 3, 4]\n"
          ]
        }
      ]
    },
    {
      "cell_type": "code",
      "source": [
        "a=range(3,8)\n",
        "print(list(a))"
      ],
      "metadata": {
        "colab": {
          "base_uri": "https://localhost:8080/"
        },
        "id": "Q6PS92WR8w76",
        "outputId": "e2368fe0-ecb6-4c2d-edbc-20f4ffb72436"
      },
      "execution_count": null,
      "outputs": [
        {
          "output_type": "stream",
          "name": "stdout",
          "text": [
            "[3, 4, 5, 6, 7]\n"
          ]
        }
      ]
    },
    {
      "cell_type": "code",
      "source": [
        "b=range(-2,4)\n",
        "print(list(b))"
      ],
      "metadata": {
        "colab": {
          "base_uri": "https://localhost:8080/"
        },
        "id": "z9wfaeHe9Yxr",
        "outputId": "afc4b96f-7d91-47b1-9178-d868fc5cb1fd"
      },
      "execution_count": null,
      "outputs": [
        {
          "output_type": "stream",
          "name": "stdout",
          "text": [
            "[-2, -1, 0, 1, 2, 3]\n"
          ]
        }
      ]
    },
    {
      "cell_type": "code",
      "source": [
        "c=range(3,8,1)\n",
        "print(list(c))"
      ],
      "metadata": {
        "colab": {
          "base_uri": "https://localhost:8080/"
        },
        "id": "Qdrm4iIy9lfv",
        "outputId": "7a36258c-f66f-4ad5-a1cc-71bd1353b7b9"
      },
      "execution_count": null,
      "outputs": [
        {
          "output_type": "stream",
          "name": "stdout",
          "text": [
            "[3, 4, 5, 6, 7]\n"
          ]
        }
      ]
    },
    {
      "cell_type": "code",
      "source": [
        "d=range(3,8,2)\n",
        "print(list(d))"
      ],
      "metadata": {
        "colab": {
          "base_uri": "https://localhost:8080/"
        },
        "id": "6Z8_OZHp_ohI",
        "outputId": "c5f7fb0b-a06e-4176-af9a-ba0bf494c733"
      },
      "execution_count": null,
      "outputs": [
        {
          "output_type": "stream",
          "name": "stdout",
          "text": [
            "[3, 5, 7]\n"
          ]
        }
      ]
    },
    {
      "cell_type": "code",
      "source": [
        "e=range(8,3,-1)\n",
        "print(list(e))"
      ],
      "metadata": {
        "colab": {
          "base_uri": "https://localhost:8080/"
        },
        "id": "bWbojchU_wNs",
        "outputId": "134e3831-f936-4c78-df8c-199f52a7430f"
      },
      "execution_count": null,
      "outputs": [
        {
          "output_type": "stream",
          "name": "stdout",
          "text": [
            "[8, 7, 6, 5, 4]\n"
          ]
        }
      ]
    },
    {
      "cell_type": "code",
      "source": [
        "f=range(0,9)\n",
        "print(list(f))"
      ],
      "metadata": {
        "colab": {
          "base_uri": "https://localhost:8080/"
        },
        "id": "cAoHJ2dtAH2V",
        "outputId": "5017835a-c6e2-41c6-a3a3-9c7e1a7895f1"
      },
      "execution_count": null,
      "outputs": [
        {
          "output_type": "stream",
          "name": "stdout",
          "text": [
            "[0, 1, 2, 3, 4, 5, 6, 7, 8]\n"
          ]
        }
      ]
    },
    {
      "cell_type": "code",
      "source": [
        "g=range(0,10)\n",
        "print(list(g))"
      ],
      "metadata": {
        "colab": {
          "base_uri": "https://localhost:8080/"
        },
        "id": "vBoSWwBgBSbe",
        "outputId": "fbc35024-35a4-4b56-a791-1a6fd802389b"
      },
      "execution_count": null,
      "outputs": [
        {
          "output_type": "stream",
          "name": "stdout",
          "text": [
            "[0, 1, 2, 3, 4, 5, 6, 7, 8, 9]\n"
          ]
        }
      ]
    },
    {
      "cell_type": "code",
      "source": [
        "h=range(1,10,2)\n",
        "print(list(h))"
      ],
      "metadata": {
        "colab": {
          "base_uri": "https://localhost:8080/"
        },
        "id": "A0kteeS2BjuB",
        "outputId": "56eeba69-fa4d-4438-ad4c-3cbb03e48160"
      },
      "execution_count": null,
      "outputs": [
        {
          "output_type": "stream",
          "name": "stdout",
          "text": [
            "[1, 3, 5, 7, 9]\n"
          ]
        }
      ]
    },
    {
      "cell_type": "code",
      "source": [
        "i=range(10,1,-2)\n",
        "print(list(i))"
      ],
      "metadata": {
        "colab": {
          "base_uri": "https://localhost:8080/"
        },
        "id": "5b4OXG6MBxxy",
        "outputId": "679ba215-fdef-44ec-b247-387d249b24f5"
      },
      "execution_count": null,
      "outputs": [
        {
          "output_type": "stream",
          "name": "stdout",
          "text": [
            "[10, 8, 6, 4, 2]\n"
          ]
        }
      ]
    },
    {
      "cell_type": "code",
      "source": [
        "for n in range(3):\n",
        "  print(n)"
      ],
      "metadata": {
        "colab": {
          "base_uri": "https://localhost:8080/"
        },
        "id": "V4vW1f9yCi9T",
        "outputId": "058e8c89-6d72-4b44-9152-80860d389e1b"
      },
      "execution_count": null,
      "outputs": [
        {
          "output_type": "stream",
          "name": "stdout",
          "text": [
            "0\n",
            "1\n",
            "2\n"
          ]
        }
      ]
    },
    {
      "cell_type": "code",
      "source": [
        "for n in range(10):\n",
        "  print(n,end=\",\")"
      ],
      "metadata": {
        "colab": {
          "base_uri": "https://localhost:8080/"
        },
        "id": "QKBCVZjrDZFw",
        "outputId": "e9c990f2-eff2-4a73-9e34-d38ca15de216"
      },
      "execution_count": null,
      "outputs": [
        {
          "output_type": "stream",
          "name": "stdout",
          "text": [
            "0,1,2,3,4,5,6,7,8,9,"
          ]
        }
      ]
    },
    {
      "cell_type": "code",
      "source": [
        "for n in range(6):\n",
        "  print(n,end=\",\")"
      ],
      "metadata": {
        "colab": {
          "base_uri": "https://localhost:8080/"
        },
        "id": "z7whbfGFDfdV",
        "outputId": "05c18e2a-32c7-4c4f-dd0e-fc3c90fc0ff7"
      },
      "execution_count": null,
      "outputs": [
        {
          "output_type": "stream",
          "name": "stdout",
          "text": [
            "0,1,2,3,4,5,"
          ]
        }
      ]
    },
    {
      "cell_type": "code",
      "source": [
        "test=int(input(\"請輸入一個正整數\"))\n",
        "for n in range(1,test+1):\n",
        "  print(n,end=\",\")"
      ],
      "metadata": {
        "colab": {
          "base_uri": "https://localhost:8080/"
        },
        "id": "gpAULP0BI5jS",
        "outputId": "34b88768-fbdd-4dee-9540-cf58a8770981"
      },
      "execution_count": null,
      "outputs": [
        {
          "output_type": "stream",
          "name": "stdout",
          "text": [
            "請輸入一個正整數12\n",
            "1,2,3,4,5,6,7,8,9,10,11,12,"
          ]
        }
      ]
    },
    {
      "cell_type": "code",
      "source": [
        "sum=0\n",
        "for n in range(3):\n",
        "  sum=sum+n\n",
        "print(sum)"
      ],
      "metadata": {
        "colab": {
          "base_uri": "https://localhost:8080/"
        },
        "id": "G_Wssii9JcNf",
        "outputId": "7c133c6a-1298-41f2-db89-38361957b2c4"
      },
      "execution_count": null,
      "outputs": [
        {
          "output_type": "stream",
          "name": "stdout",
          "text": [
            "3\n"
          ]
        }
      ]
    },
    {
      "cell_type": "code",
      "source": [
        "sum=0\n",
        "for n in range(10,1,-2):\n",
        "  sum=sum+n\n",
        "print(sum)"
      ],
      "metadata": {
        "colab": {
          "base_uri": "https://localhost:8080/"
        },
        "id": "3zOQSPq_Kbwq",
        "outputId": "40af26ca-d0ec-4a31-8198-a62ef1ad3bc3"
      },
      "execution_count": null,
      "outputs": [
        {
          "output_type": "stream",
          "name": "stdout",
          "text": [
            "30\n"
          ]
        }
      ]
    },
    {
      "cell_type": "code",
      "source": [
        "sum=0\n",
        "for n in range(1,11):\n",
        "  sum=sum+n\n",
        "print(sum)"
      ],
      "metadata": {
        "colab": {
          "base_uri": "https://localhost:8080/"
        },
        "id": "W_A-Cn2_MA_B",
        "outputId": "a78481b9-5d42-4d06-8a89-3c1ea72a4d68"
      },
      "execution_count": null,
      "outputs": [
        {
          "output_type": "stream",
          "name": "stdout",
          "text": [
            "55\n"
          ]
        }
      ]
    },
    {
      "cell_type": "code",
      "source": [
        "sum=0\n",
        "for n in range(1,51):\n",
        "  sum=sum+n\n",
        "print(sum)"
      ],
      "metadata": {
        "colab": {
          "base_uri": "https://localhost:8080/"
        },
        "id": "U82CUa99MsFG",
        "outputId": "af1ec6b9-3c7e-4cfd-fe08-f4be08d26132"
      },
      "execution_count": null,
      "outputs": [
        {
          "output_type": "stream",
          "name": "stdout",
          "text": [
            "1275\n"
          ]
        }
      ]
    },
    {
      "cell_type": "code",
      "source": [
        "sum=0\n",
        "test=int(input(\"請輸入一個正整數\"))\n",
        "for n in range(1,test+1):\n",
        "  sum=sum+n\n",
        "print(\"1到\",test,\"的整數合為\",sum)"
      ],
      "metadata": {
        "colab": {
          "base_uri": "https://localhost:8080/"
        },
        "id": "S57YybAtWPKI",
        "outputId": "fad81445-9c8f-4a9f-fc00-e30170444c90"
      },
      "execution_count": 2,
      "outputs": [
        {
          "output_type": "stream",
          "name": "stdout",
          "text": [
            "請輸入一個正整數10\n",
            "1到 10 的整數合為 55\n"
          ]
        }
      ]
    },
    {
      "cell_type": "code",
      "source": [
        "sum=0\n",
        "test=int(input(\"請輸入一個正整數\"))\n",
        "for n in range(1,test+1):\n",
        "  sum=sum+n\n",
        "print(\"1到\",test,\"的整數合為\",sum)"
      ],
      "metadata": {
        "colab": {
          "base_uri": "https://localhost:8080/"
        },
        "id": "3Dm7a-LDXKbm",
        "outputId": "5bb5cf07-c119-4c65-a9b9-3eb9199cdc70"
      },
      "execution_count": 3,
      "outputs": [
        {
          "output_type": "stream",
          "name": "stdout",
          "text": [
            "請輸入一個正整數50\n",
            "1到 50 的整數合為 1275\n"
          ]
        }
      ]
    },
    {
      "cell_type": "code",
      "source": [
        "sum=0\n",
        "test=int(input(\"請輸入一個正整數:\"))\n",
        "for m in range(1,test+1):\n",
        "  sum=sum+m\n",
        "  print(\"1到\",str(m),\"的整數合為\",sum)"
      ],
      "metadata": {
        "colab": {
          "base_uri": "https://localhost:8080/"
        },
        "id": "CBVNhziQXWN8",
        "outputId": "b9df4734-9280-4575-cdd9-39aa7357762d"
      },
      "execution_count": 1,
      "outputs": [
        {
          "output_type": "stream",
          "name": "stdout",
          "text": [
            "請輸入一個正整數:50\n",
            "1到 1 的整數合為 1\n",
            "1到 2 的整數合為 3\n",
            "1到 3 的整數合為 6\n",
            "1到 4 的整數合為 10\n",
            "1到 5 的整數合為 15\n",
            "1到 6 的整數合為 21\n",
            "1到 7 的整數合為 28\n",
            "1到 8 的整數合為 36\n",
            "1到 9 的整數合為 45\n",
            "1到 10 的整數合為 55\n",
            "1到 11 的整數合為 66\n",
            "1到 12 的整數合為 78\n",
            "1到 13 的整數合為 91\n",
            "1到 14 的整數合為 105\n",
            "1到 15 的整數合為 120\n",
            "1到 16 的整數合為 136\n",
            "1到 17 的整數合為 153\n",
            "1到 18 的整數合為 171\n",
            "1到 19 的整數合為 190\n",
            "1到 20 的整數合為 210\n",
            "1到 21 的整數合為 231\n",
            "1到 22 的整數合為 253\n",
            "1到 23 的整數合為 276\n",
            "1到 24 的整數合為 300\n",
            "1到 25 的整數合為 325\n",
            "1到 26 的整數合為 351\n",
            "1到 27 的整數合為 378\n",
            "1到 28 的整數合為 406\n",
            "1到 29 的整數合為 435\n",
            "1到 30 的整數合為 465\n",
            "1到 31 的整數合為 496\n",
            "1到 32 的整數合為 528\n",
            "1到 33 的整數合為 561\n",
            "1到 34 的整數合為 595\n",
            "1到 35 的整數合為 630\n",
            "1到 36 的整數合為 666\n",
            "1到 37 的整數合為 703\n",
            "1到 38 的整數合為 741\n",
            "1到 39 的整數合為 780\n",
            "1到 40 的整數合為 820\n",
            "1到 41 的整數合為 861\n",
            "1到 42 的整數合為 903\n",
            "1到 43 的整數合為 946\n",
            "1到 44 的整數合為 990\n",
            "1到 45 的整數合為 1035\n",
            "1到 46 的整數合為 1081\n",
            "1到 47 的整數合為 1128\n",
            "1到 48 的整數合為 1176\n",
            "1到 49 的整數合為 1225\n",
            "1到 50 的整數合為 1275\n"
          ]
        }
      ]
    }
  ]
}