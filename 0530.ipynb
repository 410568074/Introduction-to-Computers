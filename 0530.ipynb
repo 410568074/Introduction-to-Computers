{
  "nbformat": 4,
  "nbformat_minor": 0,
  "metadata": {
    "colab": {
      "name": "0530.ipynb",
      "provenance": [],
      "authorship_tag": "ABX9TyMmSzmvD9HcsqEybJaU4z4J",
      "include_colab_link": true
    },
    "kernelspec": {
      "name": "python3",
      "display_name": "Python 3"
    },
    "language_info": {
      "name": "python"
    }
  },
  "cells": [
    {
      "cell_type": "markdown",
      "metadata": {
        "id": "view-in-github",
        "colab_type": "text"
      },
      "source": [
        "<a href=\"https://colab.research.google.com/github/410568074/Introduction-to-Computers/blob/main/0530.ipynb\" target=\"_parent\"><img src=\"https://colab.research.google.com/assets/colab-badge.svg\" alt=\"Open In Colab\"/></a>"
      ]
    },
    {
      "cell_type": "code",
      "execution_count": null,
      "metadata": {
        "id": "MVwnEeeXj23j"
      },
      "outputs": [],
      "source": [
        "九九乘法"
      ]
    },
    {
      "cell_type": "code",
      "source": [
        "for i in range(2,10):\n",
        "  for j in range(1,10):\n",
        "    product=i*j\n",
        "    print(\"%d*%d=%2d   \" % (i,j,product),end=\"\")\n",
        "  print()"
      ],
      "metadata": {
        "colab": {
          "base_uri": "https://localhost:8080/"
        },
        "id": "4rLk9XLbCB_P",
        "outputId": "8fb005b8-054e-465e-9286-3bfb9a336ba0"
      },
      "execution_count": 15,
      "outputs": [
        {
          "output_type": "stream",
          "name": "stdout",
          "text": [
            "2*1= 2   2*2= 4   2*3= 6   2*4= 8   2*5=10   2*6=12   2*7=14   2*8=16   2*9=18   \n",
            "3*1= 3   3*2= 6   3*3= 9   3*4=12   3*5=15   3*6=18   3*7=21   3*8=24   3*9=27   \n",
            "4*1= 4   4*2= 8   4*3=12   4*4=16   4*5=20   4*6=24   4*7=28   4*8=32   4*9=36   \n",
            "5*1= 5   5*2=10   5*3=15   5*4=20   5*5=25   5*6=30   5*7=35   5*8=40   5*9=45   \n",
            "6*1= 6   6*2=12   6*3=18   6*4=24   6*5=30   6*6=36   6*7=42   6*8=48   6*9=54   \n",
            "7*1= 7   7*2=14   7*3=21   7*4=28   7*5=35   7*6=42   7*7=49   7*8=56   7*9=63   \n",
            "8*1= 8   8*2=16   8*3=24   8*4=32   8*5=40   8*6=48   8*7=56   8*8=64   8*9=72   \n",
            "9*1= 9   9*2=18   9*3=27   9*4=36   9*5=45   9*6=54   9*7=63   9*8=72   9*9=81   \n"
          ]
        }
      ]
    },
    {
      "cell_type": "code",
      "source": [
        "a=int(input(\"請輸入a的值\"))\n",
        "b=int(input(\"請輸入b的值\"))\n",
        "\n",
        "maxno=a*b\n",
        "for i in range(1,maxno+1):\n",
        "  if(i % a == 0 and i % b == 0):\n",
        "    break\n",
        "print(\"%d和%d的最小公倍數=%d\" %(a,b,i))"
      ],
      "metadata": {
        "colab": {
          "base_uri": "https://localhost:8080/"
        },
        "id": "jlcfYpb3Dvcc",
        "outputId": "d9cb3bce-9702-4688-9472-253a0ad20551"
      },
      "execution_count": 13,
      "outputs": [
        {
          "output_type": "stream",
          "name": "stdout",
          "text": [
            "請輸入a的值4\n",
            "請輸入b的值5\n",
            "4和5的最小公倍數=20\n"
          ]
        }
      ]
    },
    {
      "cell_type": "code",
      "source": [
        "n=int(input(\"請輸入正整數:\"))\n",
        "for i in range(1,n+1):\n",
        "  if i % 5 == 0:\n",
        "    continue\n",
        "  print(i,end=\" \")"
      ],
      "metadata": {
        "colab": {
          "base_uri": "https://localhost:8080/"
        },
        "id": "Nz7vSDGqFVtm",
        "outputId": "5e82132f-b45b-4718-9b3b-7dde5fa303da"
      },
      "execution_count": 18,
      "outputs": [
        {
          "output_type": "stream",
          "name": "stdout",
          "text": [
            "請輸入正整數:21\n",
            "1 2 3 4 6 7 8 9 11 12 13 14 16 17 18 19 21 "
          ]
        }
      ]
    },
    {
      "cell_type": "code",
      "source": [
        "total=n=0\n",
        "while(n<=10):\n",
        "  total+=n\n",
        "  n+=1\n",
        "print(total)"
      ],
      "metadata": {
        "colab": {
          "base_uri": "https://localhost:8080/"
        },
        "id": "LTCQbibIHCg3",
        "outputId": "f52f4fbb-297d-4238-9236-4658ebbf88cf"
      },
      "execution_count": 19,
      "outputs": [
        {
          "output_type": "stream",
          "name": "stdout",
          "text": [
            "55\n"
          ]
        }
      ]
    },
    {
      "cell_type": "code",
      "source": [
        "total=n=0\n",
        "while n<=10 :\n",
        "  total+=n\n",
        "  n+=1\n",
        "print(total)"
      ],
      "metadata": {
        "colab": {
          "base_uri": "https://localhost:8080/"
        },
        "id": "rVBBLL6xIwDl",
        "outputId": "792cc9d4-c527-4dd7-83c8-73c9cb35a05a"
      },
      "execution_count": 20,
      "outputs": [
        {
          "output_type": "stream",
          "name": "stdout",
          "text": [
            "55\n"
          ]
        }
      ]
    },
    {
      "cell_type": "code",
      "source": [
        "total = i = 1\n",
        "n = int(input(\"請輸入正整數n的值: \"))\n",
        "while i<=n:\n",
        "  total += i\n",
        "  i+=1\n",
        "print(\"%d!=%d\" % (n,total))"
      ],
      "metadata": {
        "colab": {
          "base_uri": "https://localhost:8080/"
        },
        "id": "pZcfJJJpJaoj",
        "outputId": "e91cc188-1180-48c7-8799-240a38e68f2b"
      },
      "execution_count": 24,
      "outputs": [
        {
          "output_type": "stream",
          "name": "stdout",
          "text": [
            "請輸入正整數n的值: 100\n",
            "100!=5051\n"
          ]
        }
      ]
    },
    {
      "cell_type": "code",
      "source": [
        "sum=0\n",
        "for i in range(1,101):\n",
        "  if i % 3 == 0 or i % 7 == 0:\n",
        "    sum += i\n",
        "print(\"數值1~100中,所有是3或7倍數的數之總和=\"+str(sum))"
      ],
      "metadata": {
        "colab": {
          "base_uri": "https://localhost:8080/"
        },
        "id": "E_zheOnuMYuI",
        "outputId": "3da264fe-8c4b-4c40-9f54-0d3c4be6a72c"
      },
      "execution_count": 27,
      "outputs": [
        {
          "output_type": "stream",
          "name": "stdout",
          "text": [
            "數值1~100中,所有是3或7倍數的數之總和=2208\n"
          ]
        }
      ]
    },
    {
      "cell_type": "code",
      "source": [
        "n=int(input(\"請輸入正整數:\"))\n",
        "for i in range(n,0,-1):\n",
        "  for j in range(i,0,-1):\n",
        "    print(\"*\",end=\"\")\n",
        "  print()"
      ],
      "metadata": {
        "colab": {
          "base_uri": "https://localhost:8080/"
        },
        "id": "CuEEgXSETFED",
        "outputId": "a30816a8-9f65-4d86-c1ee-ecc585b5f747"
      },
      "execution_count": 29,
      "outputs": [
        {
          "output_type": "stream",
          "name": "stdout",
          "text": [
            "請輸入正整數:7\n",
            "*******\n",
            "******\n",
            "*****\n",
            "****\n",
            "***\n",
            "**\n",
            "*\n"
          ]
        }
      ]
    },
    {
      "cell_type": "code",
      "source": [
        "n=int(input(\"請輸入正整數:\"))\n",
        "for i in range(n,0,-1):\n",
        "  for j in range(i,0,-1):\n",
        "    print(\"*\",end=\"\")\n",
        "  print()"
      ],
      "metadata": {
        "colab": {
          "base_uri": "https://localhost:8080/"
        },
        "id": "8di-jq3XVWN_",
        "outputId": "43bb2651-a6eb-4df5-b8db-7eeb1aaf0af4"
      },
      "execution_count": 30,
      "outputs": [
        {
          "output_type": "stream",
          "name": "stdout",
          "text": [
            "請輸入正整數:5\n",
            "*****\n",
            "****\n",
            "***\n",
            "**\n",
            "*\n"
          ]
        }
      ]
    },
    {
      "cell_type": "code",
      "source": [
        "n=int(input(\"請輸入正整數:\"))\n",
        "for i in range(2,n):\n",
        "  if n % i == 0:\n",
        "    print(str(n)+\"不是質數\")\n",
        "    break\n",
        "else:\n",
        "  print(str(n)+\"是質數\")"
      ],
      "metadata": {
        "colab": {
          "base_uri": "https://localhost:8080/"
        },
        "id": "gu7PmAn1VYdg",
        "outputId": "2bbcd10f-df6a-42b7-b6da-da7feb5b7ef6"
      },
      "execution_count": 32,
      "outputs": [
        {
          "output_type": "stream",
          "name": "stdout",
          "text": [
            "請輸入正整數:12\n",
            "12不是質數\n"
          ]
        }
      ]
    },
    {
      "cell_type": "code",
      "source": [
        "n=int(input(\"請輸入正整數:\"))\n",
        "for i in range(2,n):\n",
        "  if n % i == 0:\n",
        "    print(str(n)+\"不是質數\")\n",
        "    break\n",
        "else:\n",
        "  print(str(n)+\"是質數\")"
      ],
      "metadata": {
        "colab": {
          "base_uri": "https://localhost:8080/"
        },
        "id": "pMgnSmM7WWVk",
        "outputId": "ad5ea3bb-1725-4c79-dfb3-6bb6ff871393"
      },
      "execution_count": 33,
      "outputs": [
        {
          "output_type": "stream",
          "name": "stdout",
          "text": [
            "請輸入正整數:11\n",
            "11是質數\n"
          ]
        }
      ]
    },
    {
      "cell_type": "code",
      "source": [
        "total=0\n",
        "i=2\n",
        "while i<=50:\n",
        "  total+=i\n",
        "  i+=2\n",
        "print(\"0~50的偶數和結果是\"+str(total))"
      ],
      "metadata": {
        "colab": {
          "base_uri": "https://localhost:8080/"
        },
        "id": "j_xlXq7ednvJ",
        "outputId": "43bdeec7-1529-4108-a156-faa5bd3cbb83"
      },
      "execution_count": 60,
      "outputs": [
        {
          "output_type": "stream",
          "name": "stdout",
          "text": [
            "0~50的偶數和結果是650\n"
          ]
        }
      ]
    },
    {
      "cell_type": "code",
      "source": [
        "total=0\n",
        "i=1\n",
        "while i<=50:\n",
        "  total+=i\n",
        "  i+=2\n",
        "print(\"0~50的奇數和結果是\"+str(total))"
      ],
      "metadata": {
        "colab": {
          "base_uri": "https://localhost:8080/"
        },
        "id": "jvbcrHwleTsd",
        "outputId": "2b83e74b-1d7a-45f8-8841-22800427759d"
      },
      "execution_count": 61,
      "outputs": [
        {
          "output_type": "stream",
          "name": "stdout",
          "text": [
            "0~50的奇數和結果是625\n"
          ]
        }
      ]
    }
  ]
}